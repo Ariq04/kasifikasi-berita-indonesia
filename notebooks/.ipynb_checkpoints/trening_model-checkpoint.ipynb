{
 "cells": [
  {
   "cell_type": "code",
   "execution_count": null,
   "id": "f0c67e3f",
   "metadata": {
    "vscode": {
     "languageId": "plaintext"
    }
   },
   "outputs": [],
   "source": [
    "import pandas as pd\n",
    "\n",
    "# Ganti 'nama_file.csv' dengan nama file dataset Anda\n",
    "df = pd.read_csv('../data/Indonesian_news_dataset.csv') \n",
    "print(df.head())\n",
    "print(df['category'].value_counts())"
   ]
  }
 ],
 "metadata": {
  "language_info": {
   "name": "python"
  }
 },
 "nbformat": 4,
 "nbformat_minor": 5
}
