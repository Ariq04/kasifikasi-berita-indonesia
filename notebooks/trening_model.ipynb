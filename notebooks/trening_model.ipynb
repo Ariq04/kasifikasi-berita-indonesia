{
 "cells": [
  {
   "cell_type": "code",
   "execution_count": 4,
   "id": "f0c67e3f",
   "metadata": {},
   "outputs": [
    {
     "name": "stdout",
     "output_type": "stream",
     "text": [
      "         date                                                url  \\\n",
      "0  02/26/2020  https://finance.detik.com/berita-ekonomi-bisni...   \n",
      "1  02/26/2020  https://finance.detik.com/berita-ekonomi-bisni...   \n",
      "2  02/26/2020  https://finance.detik.com/berita-ekonomi-bisni...   \n",
      "3  02/26/2020  https://finance.detik.com/moneter/d-4916133/oj...   \n",
      "4  02/26/2020  https://finance.detik.com/berita-ekonomi-bisni...   \n",
      "\n",
      "                                               title category  \n",
      "0                     Kemnaker Awasi TKA di Meikarta  finance  \n",
      "1                  BNI Digitalkan BNI Java Jazz 2020  finance  \n",
      "2  Terbang ke Australia, Edhy Prabowo Mau Genjot ...  finance  \n",
      "3  OJK Siapkan Stimulus Ekonomi Antisipasi Dampak...  finance  \n",
      "4  Saran Buat Anies-RK yang Mangkir Rapat Banjir ...  finance  \n",
      "category\n",
      "news       32360\n",
      "hot        16330\n",
      "finance    14168\n",
      "travel      6466\n",
      "inet        5640\n",
      "health      4919\n",
      "oto         4383\n",
      "food        4315\n",
      "sport       2436\n",
      "Name: count, dtype: int64\n"
     ]
    }
   ],
   "source": [
    "import pandas as pd\n",
    "\n",
    "# Ganti 'nama_file.csv' dengan nama file dataset Anda\n",
    "df = pd.read_csv('indonesian-news-title.csv') \n",
    "print(df.head())\n",
    "print(df['category'].value_counts())"
   ]
  },
  {
   "cell_type": "code",
   "execution_count": 5,
   "id": "7e4ff7ff",
   "metadata": {},
   "outputs": [
    {
     "name": "stdout",
     "output_type": "stream",
     "text": [
      "<class 'pandas.core.frame.DataFrame'>\n",
      "RangeIndex: 91017 entries, 0 to 91016\n",
      "Data columns (total 4 columns):\n",
      " #   Column    Non-Null Count  Dtype \n",
      "---  ------    --------------  ----- \n",
      " 0   date      91017 non-null  object\n",
      " 1   url       91017 non-null  object\n",
      " 2   title     91017 non-null  object\n",
      " 3   category  91017 non-null  object\n",
      "dtypes: object(4)\n",
      "memory usage: 2.8+ MB\n"
     ]
    }
   ],
   "source": [
    "df.info()\n"
   ]
  },
  {
   "cell_type": "code",
   "execution_count": 6,
   "id": "3cb9f95a",
   "metadata": {},
   "outputs": [],
   "source": [
    "from sklearn.model_selection import train_test_split\n",
    "\n",
    "# Pilih kolom fitur (teks berita) dan target (kategori)\n",
    "X = df['title']\n",
    "y = df['category']\n",
    "\n",
    "# Bagi data menjadi data latih (80%) dan data uji (20%)\n",
    "X_train, X_test, y_train, y_test = train_test_split(X, y, test_size=0.2, random_state=42)"
   ]
  },
  {
   "cell_type": "code",
   "execution_count": null,
   "id": "b9d3ade4",
   "metadata": {},
   "outputs": [],
   "source": [
    "#clash tfidvectorizer\n",
    "from sklearn.feature_extraction.text import TfidfVectorizer\n",
    "\n",
    "# Buat objek TfidfVectorizer\n",
    "vectorizer = TfidfVectorizer(max_features=5000) # Batasi hingga 5000 kata paling umum\n",
    "\n",
    "# Latih vectorizer pada data latih dan transformasikan\n",
    "X_train_tfidf = vectorizer.fit_transform(X_train)\n",
    "\n",
    "# Transformasikan data uji dengan vectorizer yang sama\n",
    "X_test_tfidf = vectorizer.transform(X_test)"
   ]
  },
  {
   "cell_type": "code",
   "execution_count": null,
   "id": "f995840c",
   "metadata": {},
   "outputs": [
    {
     "name": "stdout",
     "output_type": "stream",
     "text": [
      "Akurasi Model: 79.72%\n"
     ]
    }
   ],
   "source": [
    "#multinomialNB adalah clash\n",
    "#model adalah objek\n",
    "from sklearn.naive_bayes import MultinomialNB\n",
    "from sklearn.metrics import accuracy_score\n",
    "\n",
    "# Buat dan latih model\n",
    "model = MultinomialNB()\n",
    "model.fit(X_train_tfidf, y_train)\n",
    "\n",
    "# Evaluasi model\n",
    "y_pred = model.predict(X_test_tfidf)\n",
    "accuracy = accuracy_score(y_test, y_pred)\n",
    "print(f\"Akurasi Model: {accuracy * 100:.2f}%\")"
   ]
  },
  {
   "cell_type": "code",
   "execution_count": 10,
   "id": "ba8b48d1",
   "metadata": {},
   "outputs": [
    {
     "name": "stdout",
     "output_type": "stream",
     "text": [
      "Model dan Vectorizer berhasil disimpan!\n"
     ]
    }
   ],
   "source": [
    "import joblib\n",
    "\n",
    "# Simpan model ke folder 'models'\n",
    "joblib.dump(model, '../models/model_klasifikasi.joblib')\n",
    "\n",
    "# Simpan juga vectorizer\n",
    "joblib.dump(vectorizer, '../models/tfidf_vectorizer.joblib')\n",
    "\n",
    "print(\"Model dan Vectorizer berhasil disimpan!\")"
   ]
  },
  {
   "cell_type": "code",
   "execution_count": null,
   "id": "095bfa0b",
   "metadata": {},
   "outputs": [],
   "source": []
  }
 ],
 "metadata": {
  "kernelspec": {
   "display_name": "venv",
   "language": "python",
   "name": "python3"
  },
  "language_info": {
   "codemirror_mode": {
    "name": "ipython",
    "version": 3
   },
   "file_extension": ".py",
   "mimetype": "text/x-python",
   "name": "python",
   "nbconvert_exporter": "python",
   "pygments_lexer": "ipython3",
   "version": "3.12.3"
  }
 },
 "nbformat": 4,
 "nbformat_minor": 5
}
